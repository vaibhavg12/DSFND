{
 "cells": [
  {
   "cell_type": "markdown",
   "metadata": {},
   "source": [
    "# Wrangle Report"
   ]
  },
  {
   "cell_type": "markdown",
   "metadata": {},
   "source": [
    "## Gathering Data for this Project\n",
    "\n",
    "This project involved gathering of data from three different sources as listed below. For each of the data source a different method of data gathering was used namely:-\n",
    "* Importing data via csv\n",
    "* Using requests to download data off internet\n",
    "* Scrape data from an API\n",
    "\n",
    "This was challenging and fun at the same time.\n",
    "\n",
    "## Three data sources\n",
    "\n",
    "### Enhanced Twitter Archive\n",
    "The WeRateDogs Twitter archive provided by Udacity. This contains basic tweet data for all 5000+ of their tweets, but not everything.I manually downloaded this file manually by clicking the following link: twitter_archive_enhanced.csv\n",
    "\n",
    "### Image Predictions File\n",
    "The tweet image predictions, i.e., what breed of dog (or other object, animal, etc.) is present in each tweet according to a neural network. This file (image_predictions.tsv) is hosted on Udacity's servers and should be downloaded programmatically using the Requests library and the following URL: image_predictions.tsv\n",
    "\n",
    "### Data via the Twitter API\n",
    "Each tweet's retweet count and favorite (\"like\") count at minimum, and any additional data you find interesting. Using the tweet IDs in the WeRateDogs Twitter archive, query the Twitter API for each tweet's JSON data using Python's Tweepy library and store each tweet's entire set of JSON data in a file called tweet_json.txt file. Each tweet's JSON data should be written to its own line. Then read this .txt file line by line into a pandas DataFrame with (at minimum) tweet ID, retweet count, and favorite count.\n",
    "\n",
    "## Assessing data\n",
    "\n",
    "The data we ge tis seldom in standard formats or to the way we want it. After gathering the required data, I came up with the following issues with it:-\n",
    "\n",
    "\n",
    "|**Issue number**|**Description**|**Issue Type**| \n",
    "|---------------|---------------|--------------|\n",
    "|I1| Combine three different dataframes into one master data set| Tidiness|\n",
    "|I2| Clean sources columns, which is difficult to as such| Quality| \n",
    "|I3| Refine respective predictions and confidence columns| Quality|\n",
    "|I4| Combine and clean different dog stages (eg: pupper,doggo) columns into one| Quality|\n",
    "|I5| Clean text column to get dog gender| Quality|\n",
    "|I6| Remove unwanted columns (retweeted_status_timestamp, retweeted_status_user_id, retweeted_status_id ) and clean up duplicate rows and NaNs| Tidiness|\n",
    "|I7| Drop columns with one low values or similar kind of values|Quality|\n",
    "|I8| Fix numerator and denominators| Quality|\n",
    "|I9| Convert NaNs/Nulls to None | Quality|\n",
    "|I10| Fix datatypes of various columns| Quality|\n",
    "\n",
    "## Cleaning Data\n",
    "\n",
    "I used my knowledge of python and searching over the internet i.e. google, stackoverflow, stackabuse etc for references and possible guideance to resolve the above mentioned issues to the best of my knowledge. There was lot trial and error for difficult cases where regular expressions had to be used but at the same time some things for instance dropping the not so useful columns was pretty straight forward. \n",
    "\n",
    "Overall, I learned a lot about how to use python effectively and efficiently to clean data and store it.\n",
    " \n"
   ]
  },
  {
   "cell_type": "markdown",
   "metadata": {},
   "source": [
    "Finally, once the data was ready I analyzed it using visualizations as document in act_report.html "
   ]
  },
  {
   "cell_type": "code",
   "execution_count": null,
   "metadata": {},
   "outputs": [],
   "source": []
  }
 ],
 "metadata": {
  "kernelspec": {
   "display_name": "Python 3",
   "language": "python",
   "name": "python3"
  },
  "language_info": {
   "codemirror_mode": {
    "name": "ipython",
    "version": 3
   },
   "file_extension": ".py",
   "mimetype": "text/x-python",
   "name": "python",
   "nbconvert_exporter": "python",
   "pygments_lexer": "ipython3",
   "version": "3.6.5"
  }
 },
 "nbformat": 4,
 "nbformat_minor": 2
}
