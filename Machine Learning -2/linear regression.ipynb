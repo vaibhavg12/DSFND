{
 "cells": [
  {
   "cell_type": "markdown",
   "metadata": {},
   "source": [
    "Algos in predicive ML -- \n",
    "1. classification -- answers yes or no questions \n",
    "2. Regression - answers questions of how much "
   ]
  },
  {
   "cell_type": "markdown",
   "metadata": {},
   "source": [
    "* Look at the data and draw the best fitting line (linear) through the set of data points on a graph. Use the following tricks:-\n",
    "\n",
    "* Trick 1 - Absolute Trick \n",
    "* Trick 2 - square trick \n",
    "\n",
    "Gradient Descent\n",
    "* find a line which is close the points in a way that minimizes the error. \n",
    "* reduce the error by walking along the negative of its gradient\n",
    "\n",
    "Mean Absolute Error\n",
    "* mean of absolute errors i.e. the distanc between the proposed line/solution and the actual points.\n",
    "\n",
    "Mean squared error\n",
    "* it is a quadratic function, and thus smallest error will always be at the middle of it.\n",
    "\n",
    "\n",
    "\n",
    "\n",
    "\n"
   ]
  },
  {
   "cell_type": "code",
   "execution_count": null,
   "metadata": {},
   "outputs": [],
   "source": []
  }
 ],
 "metadata": {
  "kernelspec": {
   "display_name": "Python 3",
   "language": "python",
   "name": "python3"
  },
  "language_info": {
   "codemirror_mode": {
    "name": "ipython",
    "version": 3
   },
   "file_extension": ".py",
   "mimetype": "text/x-python",
   "name": "python",
   "nbconvert_exporter": "python",
   "pygments_lexer": "ipython3",
   "version": "3.6.5"
  }
 },
 "nbformat": 4,
 "nbformat_minor": 2
}
